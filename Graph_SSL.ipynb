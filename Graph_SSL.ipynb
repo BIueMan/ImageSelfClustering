{
  "nbformat": 4,
  "nbformat_minor": 0,
  "metadata": {
    "colab": {
      "provenance": [],
      "authorship_tag": "ABX9TyNVH2RmDphHFSK1qtI/V4Xx",
      "include_colab_link": true
    },
    "kernelspec": {
      "name": "python3",
      "display_name": "Python 3"
    },
    "language_info": {
      "name": "python"
    }
  },
  "cells": [
    {
      "cell_type": "markdown",
      "metadata": {
        "id": "view-in-github",
        "colab_type": "text"
      },
      "source": [
        "<a href=\"https://colab.research.google.com/github/BIueMan/ImageSelfClustering/blob/main/Graph_SSL.ipynb\" target=\"_parent\"><img src=\"https://colab.research.google.com/assets/colab-badge.svg\" alt=\"Open In Colab\"/></a>"
      ]
    },
    {
      "cell_type": "code",
      "execution_count": 3,
      "metadata": {
        "id": "T5Kyj79fxNV4"
      },
      "outputs": [],
      "source": [
        "import numpy as np\n",
        "import matplotlib.pyplot as plt\n",
        "import scipy.signal\n",
        "import cv2\n",
        "import time\n",
        "from google.colab.patches import cv2_imshow\n",
        "import os"
      ]
    },
    {
      "cell_type": "code",
      "source": [
        "# Connect to drive to save work\n",
        "from google.colab import drive\n",
        "drive.mount('/content/gdrive')\n",
        "%cd /content/gdrive/MyDrive/EE049064\n",
        "\n",
        "im = cv2.cvtColor(cv2.imread('./amanita.jpg'), cv2.COLOR_BGR2RGB)"
      ],
      "metadata": {
        "id": "Vhpjxlqu5NtB"
      },
      "execution_count": null,
      "outputs": []
    },
    {
      "cell_type": "markdown",
      "source": [
        "# Auxilary"
      ],
      "metadata": {
        "id": "CyMPug6W5RxL"
      }
    },
    {
      "cell_type": "code",
      "source": [
        "def toy_image(imgSz, refSz=None):\n",
        "  return np.random.random(*imgSz) , np.random.random(*imgSz), np.random.random(*imgSz) "
      ],
      "metadata": {
        "id": "saKO6fpI5SRt"
      },
      "execution_count": null,
      "outputs": []
    },
    {
      "cell_type": "code",
      "source": [
        "def nullFunc():\n",
        "  return None"
      ],
      "metadata": {
        "id": "h7mykUiTaLGE"
      },
      "execution_count": null,
      "outputs": []
    },
    {
      "cell_type": "code",
      "source": [
        "def save_img(img, imgFn):\n",
        "  return None\n",
        "\n",
        "def save_mtx(smp, mtxFn):\n",
        "  return None\n"
      ],
      "metadata": {
        "id": "VcZOFWhelmSV"
      },
      "execution_count": null,
      "outputs": []
    },
    {
      "cell_type": "code",
      "source": [
        "def load_img(imgFn):\n",
        "  return None\n",
        "\n",
        "def load_mtx(mtxFn):\n",
        "  return None\n"
      ],
      "metadata": {
        "id": "YTxc0BQvmmWU"
      },
      "execution_count": null,
      "outputs": []
    },
    {
      "cell_type": "code",
      "source": [
        "def show_image(image, grid=None):\n",
        "  return None\n"
      ],
      "metadata": {
        "id": "kc-LFgHjn81P"
      },
      "execution_count": null,
      "outputs": []
    },
    {
      "cell_type": "markdown",
      "source": [
        "# Configuration class"
      ],
      "metadata": {
        "id": "7zRLVJoBuhfB"
      }
    },
    {
      "cell_type": "code",
      "source": [
        "def defaultDict():\n",
        "  dct = {'name': 'imageDir', \n",
        "         'patchSize': 9,\n",
        "         'patchStep': 9}\n",
        "  return dct"
      ],
      "metadata": {
        "id": "CTcs1aF37Ep7"
      },
      "execution_count": null,
      "outputs": []
    },
    {
      "cell_type": "code",
      "source": [
        "class configuration:\n",
        "  def __init__(self, dct=defaultDict()):\n",
        "    self.dct = dct\n",
        "\n",
        "    dn = os.path.join(os.getcwd(), dct['name'])\n",
        "    patchSize = dct['patchSize']\n",
        "    patchStep = dct['patchStep']\n",
        "\n",
        "\n",
        "    self.imgFn = os.path.join(dn, 'image.jpg')\n",
        "    self.smpFn = os.path.join(dn, 'sample')\n",
        "    self.refFn = os.path.join(dn, 'ref')\n",
        "    self.ptcFn = os.path.join(dn, 'patches', 'pt')\n",
        "    self.wgtFn = os.path.join(dn, 'weights')\n",
        "    self.resFn = os.path.join(dn, 'result')\n",
        "\n",
        "    self.splitFunc = dct.get(\"splitFunc\", splitPatches(patchSize, patchStep))\n",
        "    self.preprocFunc = dct.get(\"preprocFunc\", colorConvert())\n",
        "    self.weightFunc = dct.get(\"weightFunc\", nullFunc)\n",
        "    self.solveFunc = dct.get(\"solveFunc\", nullFunc)\n",
        "    self.compareFunc = dct.get(\"compareFunc\", nullFunc)"
      ],
      "metadata": {
        "id": "MW1pxmU3CQ7w"
      },
      "execution_count": null,
      "outputs": []
    },
    {
      "cell_type": "markdown",
      "source": [
        "# Preprocess functions"
      ],
      "metadata": {
        "id": "eMMOeaX0LcJb"
      }
    },
    {
      "cell_type": "code",
      "source": [
        "class splitPatches:\n",
        "  def __init__(self, sz, st):\n",
        "    self.sz = sz\n",
        "    self.st = st\n",
        "  \n",
        "  #def __call__(self, img)\n",
        "\n",
        "\n",
        "class colorConvert:\n",
        "  def __init__(self, scheme=\"gray\"):\n",
        "    self.scheme = scheme\n",
        "\n",
        "  #def __call__(self, patches)"
      ],
      "metadata": {
        "id": "ArFTZhen6f9h"
      },
      "execution_count": null,
      "outputs": []
    },
    {
      "cell_type": "markdown",
      "source": [
        "## Auto encoder"
      ],
      "metadata": {
        "id": "ODR6h1HrM3km"
      }
    },
    {
      "cell_type": "code",
      "source": [],
      "metadata": {
        "id": "AGx0kcclLjsw"
      },
      "execution_count": null,
      "outputs": []
    },
    {
      "cell_type": "markdown",
      "source": [
        "# Weight functions"
      ],
      "metadata": {
        "id": "b00TJ8QNLkJ3"
      }
    },
    {
      "cell_type": "markdown",
      "source": [
        "# Solve functions"
      ],
      "metadata": {
        "id": "b3FUIBbmuQK4"
      }
    },
    {
      "cell_type": "code",
      "source": [],
      "metadata": {
        "id": "isdZrQ8-uTlS"
      },
      "execution_count": null,
      "outputs": []
    },
    {
      "cell_type": "markdown",
      "source": [
        "# Compare functions"
      ],
      "metadata": {
        "id": "xH8pZ7gjuUCo"
      }
    },
    {
      "cell_type": "markdown",
      "source": [
        "# Image class"
      ],
      "metadata": {
        "id": "ceseuOTcCovj"
      }
    },
    {
      "cell_type": "code",
      "source": [
        "class Image:\n",
        "  def __init__(self, img, smp, ref, config=configuration()):\n",
        "    self.image = img\n",
        "    self.sample = smp\n",
        "    self.ref = ref\n",
        "\n",
        "    self.config = config\n",
        "\n",
        "    self.patch = None\n",
        "    self.weight = None\n",
        "    self.result = None\n",
        "    self.error = None\n",
        "\n",
        "    self.load(config)\n",
        "\n",
        "    if self.image is None:\n",
        "      print(\"No input image given\")\n",
        "\n",
        "  def Preprocess(self):\n",
        "    split = self.splitFunc(self.image)\n",
        "    self.patch = self.preprocFunc(split)\n",
        "\n",
        "  def CalcWeights(self):\n",
        "    if self.patches is None:\n",
        "      print(\"Patches don't exist\")\n",
        "    else:\n",
        "      self.weight = self.weightFunc(self.patch)\n",
        "\n",
        "  def Solve(self):\n",
        "    if self.weight is None:\n",
        "      print(\"Weights don't exist\")\n",
        "    else:\n",
        "      self.result = self.solveFunc(self.weight)\n",
        "\n",
        "  def Compare(self):\n",
        "    if self.result is None:\n",
        "      print(\"Results don't exist\")\n",
        "    else:\n",
        "      if self.ref is None:\n",
        "        print(\"There is no reference\")\n",
        "      else:\n",
        "        self.error = self.compareFunc(self.result, self.ref)\n",
        "        \n",
        "  def __call__(self):\n",
        "    self.Preprocess()\n",
        "    self.CalcWeights()\n",
        "    self.Solve()\n",
        "    self.Compare()\n",
        "    self.save()\n",
        "  \n",
        "  def load(self, config):\n",
        "    self.image = load_img(self.config.imgFn)\n",
        "    self.sample = load_mtx(self.config.smpFn)\n",
        "    self.ref = load_mtx(self.config.refFn)\n",
        "    self.patch = load_img(self.config.ptcFn)\n",
        "    self.weight = load_mtx(self.config.wgtFn)\n",
        "    self.result = load_mtx(self.config.resFn)\n",
        "\n",
        "    self.splitFunc = self.config.splitFunc\n",
        "    self.preprocFunc = self.config.preprocFunc\n",
        "    self.weightFunc = self.config.weightFunc\n",
        "    self.solveFunc = self.config.solveFunc\n",
        "    self.compareFunc = self.config.compareFunc\n",
        "\n",
        "  def save(self):\n",
        "    save_img(self.image, self.config.imgFn)\n",
        "    save_mtx(self.sample, self.config.smpFn)\n",
        "    save_mtx(self.ref, self.config.refFn)\n",
        "    save_img(self.patch, self.config.ptcFn)\n",
        "    save_mtx(self.weight, self.config.wgtFn)\n",
        "    save_mtx(self.result, self.config.resFn)\n",
        "    save_mtx(self.error, self.config.errFn)\n",
        "\n",
        "  def show(self):\n",
        "    plt.figure(figsize=(15, 45))\n",
        "\n",
        "    plt.subplot(321)\n",
        "    show_image(self.image)\n",
        "    plt.title(\"Image\")\n",
        "    plt.axis('off')\n",
        "\n",
        "    plt.subplot(322)\n",
        "    show_image(self.image, self.sample)\n",
        "    plt.title(\"Sample data\")\n",
        "    plt.axis('off')\n",
        "\n",
        "    plt.subplot(323)\n",
        "    show_image(self.image, self.result)\n",
        "    plt.title(\"Results\")\n",
        "    plt.axis('off')\n",
        "\n",
        "    plt.subplot(324)\n",
        "    show_image(self.image, self.ref)\n",
        "    plt.title(\"Ref\")\n",
        "    plt.axis('off')\n",
        "\n",
        "    plt.subplot(313)\n",
        "    show_image(self.error)\n",
        "    plt.title(\"Error\")\n",
        "    plt.axis('off')\n",
        "\n"
      ],
      "metadata": {
        "id": "j6eq1gLsEK6q"
      },
      "execution_count": null,
      "outputs": []
    }
  ]
}